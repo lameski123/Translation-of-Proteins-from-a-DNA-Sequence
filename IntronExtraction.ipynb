{
 "cells": [
  {
   "cell_type": "code",
   "execution_count": 1,
   "metadata": {},
   "outputs": [],
   "source": [
    "import numpy as np\n",
    "\n",
    "fileContent = open(\"sequence.fasta\", \"r\")\n",
    "\n",
    "seq = \"\"\n",
    "for line in fileContent:\n",
    "    if line.startswith(\">\"):\n",
    "        continue\n",
    "    else:\n",
    "        seq = seq + line[:-1]\n"
   ]
  },
  {
   "cell_type": "code",
   "execution_count": 2,
   "metadata": {},
   "outputs": [],
   "source": [
    "# Getting the pre-mRNA from the DNA sequence\n",
    "for ind in range(len(seq) - 2):\n",
    "    if seq[ind:ind + 3] == \"ATG\":\n",
    "        init_ind = ind\n",
    "        break\n",
    "        \n",
    "seq = seq[init_ind:]\n",
    "\n",
    "branch_points = []\n",
    "# Finding the locations of the branch points\n",
    "for ind in range(len(seq) - 4):\n",
    "    if seq[ind:ind + 5] == \"CTAAC\" or seq[ind:ind + 5] == \"CTAAT\" or seq[ind:ind + 5] == \"CTGAC\" or seq[ind:ind + 5] == \"CTGAT\" or seq[ind:ind + 5] == \"CCAAC\" or seq[ind:ind + 5] == \"CCAAT\" or seq[ind:ind + 5] == \"CCGAC\" or seq[ind:ind + 5] == \"CCGAT\" or seq[ind:ind + 5] == \"TTAAC\" or seq[ind:ind + 5] == \"TTAAT\" or seq[ind:ind + 5] == \"TTGAC\" or seq[ind:ind + 5] == \"TTGAT\" or seq[ind:ind + 5] == \"TCAAC\" or seq[ind:ind + 5] == \"TCAAT\" or seq[ind:ind + 5] == \"TCGAC\" or seq[ind:ind + 5] == \"TCGAT\":\n",
    "        branch_points.append(ind+3)"
   ]
  },
  {
   "cell_type": "code",
   "execution_count": 3,
   "metadata": {},
   "outputs": [],
   "source": [
    "# Finding intron start and end points\n",
    "int_init_ind = np.zeros(len(seq), dtype=int)\n",
    "int_end_ind = np.zeros(len(seq), dtype=int)\n",
    "\n",
    "int_init_ind = list(int_init_ind)\n",
    "int_end_ind = list(int_end_ind)\n",
    "\n",
    "\n",
    "for ind in range(len(branch_points)):\n",
    "    for i in range(branch_points[ind], branch_points[ind]-60, -1):\n",
    "        if seq[i:i+2] == \"GT\":\n",
    "            int_init_ind[i] = 1\n",
    "            break\n",
    "    for j in range(branch_points[ind], branch_points[ind]+200, 1):\n",
    "        if seq[j:j+2] == \"AG\":\n",
    "            int_end_ind[j+1] = 1\n",
    "            break\n"
   ]
  },
  {
   "cell_type": "code",
   "execution_count": 4,
   "metadata": {},
   "outputs": [],
   "source": [
    "exon_ind = np.ones(len(seq), dtype=int)\n",
    "exon_ind = list(exon_ind)\n",
    "\n",
    "for ind in range(len(seq)):\n",
    "    if int_init_ind[ind] == 1:\n",
    "        for ind2 in range(ind,len(seq)):\n",
    "            if int_end_ind[ind2] == 0:\n",
    "                exon_ind[ind2] = 0\n",
    "            else:\n",
    "                break\n",
    "\n",
    "exon_loc = []\n",
    "for i, j in enumerate(exon_ind):\n",
    "    if j == 1:\n",
    "        exon_loc.append(i)\n",
    "\n",
    "exons = [seq[i] for i in exon_loc]\n",
    "exons = ''.join(exons)"
   ]
  },
  {
   "cell_type": "code",
   "execution_count": 5,
   "metadata": {},
   "outputs": [],
   "source": [
    "end_indices = []\n",
    "for ind in range(len(exons) - 2):\n",
    "    if exons[ind:ind + 3] == \"TGA\":\n",
    "        end_indices.append(ind + 2)\n",
    "end_ind = end_indices[-1]\n",
    "\n",
    "exons = exons[:end_ind+1]"
   ]
  }
 ],
 "metadata": {
  "kernelspec": {
   "display_name": "Python 3",
   "language": "python",
   "name": "python3"
  },
  "language_info": {
   "codemirror_mode": {
    "name": "ipython",
    "version": 3
   },
   "file_extension": ".py",
   "mimetype": "text/x-python",
   "name": "python",
   "nbconvert_exporter": "python",
   "pygments_lexer": "ipython3",
   "version": "3.5.5"
  }
 },
 "nbformat": 4,
 "nbformat_minor": 2
}
